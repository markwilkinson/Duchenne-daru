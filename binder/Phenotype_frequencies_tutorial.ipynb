{
 "cells": [
  {
   "cell_type": "markdown",
   "metadata": {},
   "source": [
    "## Some initial setup steps\n",
    "\n",
    "\n",
    "### Step 1:  Set-up the analytics environment\n",
    "\n",
    "We first need to do some \"housekeeping\" so that our environment can make requests over the Web and plot them...\n"
   ]
  },
  {
   "cell_type": "code",
   "execution_count": null,
   "metadata": {
    "vscode": {
     "languageId": "plaintext"
    }
   },
   "outputs": [],
   "source": [
    "require 'daru/view'\n",
    "require 'rest-client'\n",
    "require 'sparql'\n",
    "require 'rdf/rdfxml'\n",
    "require 'erb'\n",
    "\n",
    "Daru::View.plotting_library = :googlecharts\n",
    "\n",
    "puts  \"thanks!  Go to the next box now :-)\""
   ]
  },
  {
   "cell_type": "markdown",
   "metadata": {},
   "source": [
    "<pre>\n",
    "\n",
    "\n",
    "</pre>\n",
    "## Call each registry's \"Phenotype Count\" service interface\n",
    "\n",
    "We need call the URL of the \"phenotype frequencies\" service for each registry. We will then do a bit of processing on the output to put it into a more useful structure for our analytics.\n",
    "\n",
    "If you want to join this demo yourself, add the abbreviation of your registry, and the URL to your data service, into the \"registries\" variable in the following code box. Everything else is done for you automatically!\n"
   ]
  },
  {
   "cell_type": "code",
   "execution_count": null,
   "metadata": {
    "vscode": {
     "languageId": "plaintext"
    }
   },
   "outputs": [],
   "source": [
    "registries = {\n",
    "  'DPP' => 'https://www.fairdata.services/proxy/grlc/phenotype-frequencies/phenotype-frequencies',\n",
    "  'ENMD' => 'https://zks-docker.ukl.uni-freiburg.de/grlc-euronmd/api-local/phenotype-frequencies',\n",
    "  #    ADD YOUR REGISTRY HERE!!!  :-)\n",
    "}\n",
    "\n",
    "phenotype_hash = Hash.new\n",
    "\n",
    "registries.each do |registry, url|\n",
    "  begin\n",
    "      csv = RestClient.get(url)\n",
    "  rescue\n",
    "      puts \"Registry #{registry} failed to respond successfully\"\n",
    "      registries.delete(registry)\n",
    "      next\n",
    "  end\n",
    "  \n",
    "  csv.body.split[2..].each do |tmp|\n",
    "      phenourl, frequency = tmp.split(',')\n",
    "      phenotype_hash[registry] = Hash.new unless phenotype_hash[registry]\n",
    "      phenotype_hash[registry][phenourl] = frequency\n",
    "  end\n",
    "end\n",
    "\n",
    "puts \"data loaded successfully \"\n",
    "#puts\"#{phenotype_hash}\"\n"
   ]
  },
  {
   "cell_type": "markdown",
   "metadata": {},
   "source": [
    "<pre>\n",
    "\n",
    "\n",
    "</pre>\n",
    "## Calculate the total number of phenotypic observations in each registry\n",
    "\n",
    "To compare the scale of phenotypic observations in the participating registries\n"
   ]
  },
  {
   "cell_type": "code",
   "execution_count": null,
   "metadata": {
    "vscode": {
     "languageId": "plaintext"
    }
   },
   "outputs": [],
   "source": [
    "# Calculate the total number of phenotype observations\n",
    "\n",
    "registries.each do |registry, url|\n",
    "  puts \"#{registry} total number of phenotypic observations: #{phenotype_hash[registry].values.map(&:to_i).sum}\"\n",
    "end\n",
    "puts \"\""
   ]
  },
  {
   "cell_type": "markdown",
   "metadata": {},
   "source": [
    "<pre>\n",
    "\n",
    "\n",
    "</pre>\n",
    "## Find the common phenotypes for both registries\n",
    "Next, we will compare the phenotypes themselves, to check which of them are present in both DPP and Euro-NMD\n",
    "\n",
    "At the same time, we're going to take advantage of FAIR, and reach-out to the Human Phenotype Ontology to ask it for the phenotype terms associated with these URLs.\n"
   ]
  },
  {
   "cell_type": "code",
   "execution_count": null,
   "metadata": {
    "vscode": {
     "languageId": "plaintext"
    }
   },
   "outputs": [],
   "source": [
    "puts \"Common phenotypes\"\n",
    "\n",
    "# do an intersection over all registries\n",
    "common_phenotypes = []\n",
    "registries.each do |registry, url|\n",
    "  common_phenotypes = phenotype_hash[registry].keys unless common_phenotypes.first\n",
    "  common_phenotypes = common_phenotypes.intersection phenotype_hash[registry].keys\n",
    "end\n",
    "\n",
    "\n",
    "# Go to the Web to get more FAIR data about each pheno code\n",
    "phenolookup = {}\n",
    "common_phenotypes.each do |pheno|\n",
    "  #coded = ERB::Util.url_encode pheno\n",
    "  case\n",
    "    when pheno.match(/\\/NCIT_/)\n",
    "      onto = \"NCIT\"    # National Cancer Institute Thesaurus\n",
    "    when pheno.match(/\\/HP_/)\n",
    "      onto = \"HP\"      # The Human Phenotype Ontology\n",
    "    when pheno.match(/\\/UBERON_/)\n",
    "      onto = \"UBERON\"   # The UBER Anatomy Ontology\n",
    "    when pheno.match(/\\/MP_/)\n",
    "      onto = \"MP\"       # The Mamalian Phenotype Ontology\n",
    "    when pheno.match(/\\/SYMP_/)\n",
    "      onto = \"SYMP\"      # The Symptom Ontology\n",
    "  end\n",
    "  g = RDF::Graph.load(\"https://ontobee.org/ontology/#{onto}?iri=#{pheno}\")\n",
    "  \n",
    "  \n",
    "# Query the FAIR data using the SPARQL query language (the same language we used to query DPP and EURONMD!)\n",
    "  res = SPARQL.execute(\"SELECT ?label where {<#{pheno}> <http://www.w3.org/2000/01/rdf-schema#label> ?label}\", g)\n",
    "  label = res.first['label']\n",
    "  \n",
    "  \n",
    "# print output to screen\n",
    "  puts \"URl: #{pheno}  Term: #{label}\"\n",
    "  phenolookup[pheno] = label\n",
    "end\n",
    "puts \"\""
   ]
  },
  {
   "cell_type": "markdown",
   "metadata": {},
   "source": [
    "<pre>\n",
    "\n",
    "\n",
    "</pre>\n",
    "## Show the frequencies for the shared phenotypes, as well as their relative frequencies\n",
    "Since both registries have a considerable difference in the overall number of patients, we will calculate the relative frequencies in each registry to get a better comparison between them:"
   ]
  },
  {
   "cell_type": "code",
   "execution_count": null,
   "metadata": {
    "vscode": {
     "languageId": "plaintext"
    }
   },
   "outputs": [],
   "source": [
    "\n",
    "common_freqs_hash = Hash.new\n",
    "rel_freqs_hash = Hash.new\n",
    "\n",
    "puts \"Common phenotypes:\"\n",
    "\n",
    "registries.each do |registry, url|\n",
    "  common_phenotypes.each do |pheno|\n",
    "      freq = phenotype_hash[registry][pheno].to_i\n",
    "      rel_freq = (freq.to_f/phenotype_hash[registry].values.map(&:to_i).sum).round(3)\n",
    "      puts \"Registry: #{registry}; Phenotype: #{pheno};  Frequency: #{freq}; Relative frequency: #{rel_freq}\"\n",
    "    \n",
    "# Capture these calculations so that we can graph them \n",
    "      common_freqs_hash[registry] = {} unless common_freqs_hash[registry]\n",
    "      rel_freqs_hash[registry] = {} unless rel_freqs_hash[registry]\n",
    "      common_freqs_hash[registry][pheno] = freq\n",
    "      rel_freqs_hash[registry][pheno] = rel_freq\n",
    "  end\n",
    "end\n",
    "puts \"\""
   ]
  },
  {
   "cell_type": "markdown",
   "metadata": {},
   "source": [
    "<pre>\n",
    "\n",
    "\n",
    "</pre>\n",
    "## Analytics\n",
    "Here is a simple plot of the frequencies of the shared phenotypes"
   ]
  },
  {
   "cell_type": "code",
   "execution_count": null,
   "metadata": {
    "vscode": {
     "languageId": "plaintext"
    }
   },
   "outputs": [],
   "source": [
    "data_rows = []\n",
    "common_phenotypes.each do |pheno|\n",
    "  registries.each do |registry, url|\n",
    "    phenolabel = phenolookup[pheno]\n",
    "    data_rows.append [\"#{registry} #{phenolabel}\", common_freqs_hash[registry][pheno]]\n",
    "  end\n",
    "end\n",
    "\n",
    "index = Daru::Index.new ['Phenotype', 'Number of people with the phenotype',]\n",
    "frame = Daru::DataFrame.rows(data_rows)\n",
    "frame.vectors = index\n",
    "table =  Daru::View::Table.new(frame)\n",
    "\n",
    "options =  { title: 'Phenotype frequencies',\n",
    "             type: :bar,\n",
    "             height: 500\n",
    "\n",
    "}\n",
    "chart = Daru::View::Plot.new(table.table, options)\n",
    "chart.show_in_iruby"
   ]
  },
  {
   "cell_type": "markdown",
   "metadata": {},
   "source": [
    "<pre>\n",
    "\n",
    "\n",
    "</pre>\n",
    "## Analytics 2\n",
    "Now, let's compare the relative frequencies of those same phenotypes"
   ]
  },
  {
   "cell_type": "code",
   "execution_count": null,
   "metadata": {
    "vscode": {
     "languageId": "plaintext"
    }
   },
   "outputs": [],
   "source": [
    "\n",
    "data_rows = []\n",
    "common_phenotypes.each do |pheno|\n",
    "  registries.each do |registry, url|\n",
    "    phenolabel = phenolookup[pheno]\n",
    "    data_rows.append [\"#{registry} #{phenolabel}\", rel_freqs_hash[registry][pheno]]\n",
    "  end\n",
    "end\n",
    "\n",
    "\n",
    "index = Daru::Index.new ['Phenotype', 'Relative phenotype frequency',]\n",
    "frame = Daru::DataFrame.rows(data_rows)\n",
    "frame.vectors = index\n",
    "table =  Daru::View::Table.new(frame)\n",
    "\n",
    "options =  { title: 'Relative phenotype frequencies',\n",
    "             type: :bar,\n",
    "             height: 500\n",
    "\n",
    "}\n",
    "chart = Daru::View::Plot.new(table.table, options)\n",
    "chart.show_in_iruby"
   ]
  }
 ],
 "metadata": {
  "kernelspec": {
   "display_name": "Ruby 3.0.0",
   "language": "ruby",
   "name": "ruby"
  },
  "language_info": {
   "file_extension": ".rb",
   "mimetype": "application/x-ruby",
   "name": "ruby",
   "version": "3.0.0"
  }
 },
 "nbformat": 4,
 "nbformat_minor": 2
}
