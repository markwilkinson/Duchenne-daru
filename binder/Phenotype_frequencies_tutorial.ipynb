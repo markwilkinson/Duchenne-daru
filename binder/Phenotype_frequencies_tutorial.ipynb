{
 "cells": [
  {
   "cell_type": "markdown",
   "metadata": {},
   "source": [
    "## Some initial setup steps\n",
    "\n",
    "### Step 1:  Select the Ruby kernel\n",
    "IF YOU SEE THE WORD \"Ruby\" in the top right of your screen, go directly to Step 2 :-)\n",
    "\n",
    "IF YOU DO NOT SEE THE WORD \"Ruby\" in the top right side of your screen, you need to set the Ruby kernel for this demo.  In the menu bar at the top of this page, click on \"kernel\" --> \"Change Kernel\" --> \"Ruby 3.x.x\"\n",
    "\n",
    "\n",
    "### Step 2:  Set-up the analytics environment\n",
    "\n",
    "This demo has been coded to request the number of Duchenne and Becker patients in the DPP.  We first need to do some \"housekeeping\" so that our environment can make reequests over the web and plot them...\n"
   ]
  },
  {
   "cell_type": "code",
   "execution_count": null,
   "metadata": {
    "vscode": {
     "languageId": "plaintext"
    }
   },
   "outputs": [],
   "source": [
    "require 'daru/view'\n",
    "require 'rest-client'\n",
    "\n",
    "Daru::View.plotting_library = :googlecharts\n",
    "\n",
    "puts  \"thanks!  Go to the next box now :-)\""
   ]
  },
  {
   "cell_type": "markdown",
   "metadata": {},
   "source": [
    "## Call the interface\n",
    "\n",
    "All we need to do is call the URL of the \"phenotype frequencies\" service for each registry.  The output of this box is intended only to demonstrate that no sensitive information is output from these services.\n"
   ]
  },
  {
   "cell_type": "code",
   "execution_count": null,
   "metadata": {
    "vscode": {
     "languageId": "plaintext"
    }
   },
   "outputs": [],
   "source": [
    "phenocsv = RestClient.get('https://www.fairdata.services/proxy/grlc/phenotype-frequencies/phenotype-frequencies')\n",
    "enmdcsv = RestClient.get('https://zks-docker.ukl.uni-freiburg.de/grlc-euronmd/api-local/phenotype-frequencies')\n",
    "dpp_phenotype_hash = Hash.new\n",
    "enmd_phenotype_hash = Hash.new\n",
    "\n",
    "\n",
    "phenocsv.body.split[2..].each do |tmp|\n",
    "    dpp_phenotype_hash[tmp.split(',')[0]] = tmp.split(',')[1]\n",
    "end\n",
    "enmdcsv.body.split[2..].each do |tmp|\n",
    "    enmd_phenotype_hash[tmp.split(',')[0]] = tmp.split(',')[1]\n",
    "end\n",
    "\n",
    "# Print the hash for DPP\n",
    "puts \"DPP phenotype count\"\n",
    "print dpp_phenotype_hash\n",
    "puts \n",
    "\n",
    "# Print the hash for EURO-NMD\n",
    "puts\n",
    "puts \"EURO-NMD phenotype count\"\n",
    "print enmd_phenotype_hash\n",
    "puts\n"
   ]
  },
  {
   "cell_type": "markdown",
   "metadata": {},
   "source": [
    "## Calculate the total number of counts for each phenotype in each registry\n",
    "\n",
    "To get an idea on how similar DPP and Euro-NMD are regarding the number of phenotypes observed in all patients.\n"
   ]
  },
  {
   "cell_type": "code",
   "execution_count": null,
   "metadata": {
    "vscode": {
     "languageId": "plaintext"
    }
   },
   "outputs": [],
   "source": [
    "#Calculate the total amount of phenotype frequencies in DPP\n",
    "dpp_total_phenotypes = dpp_phenotype_hash.values.map(&:to_i).sum\n",
    "puts \"DPP total amount of phenotypes: #{dpp_total_phenotypes}\"\n",
    "\n",
    "#Calculate the total amount of phenotype frequencies in EURO-NMD\n",
    "enmd_total_phenotypes = enmd_phenotype_hash.values.map(&:to_i).sum\n",
    "puts \"EURO-NMD total amount of phenotypes: #{enmd_total_phenotypes}\""
   ]
  },
  {
   "cell_type": "markdown",
   "metadata": {},
   "source": [
    "## Find the common phenotypes for both registries\n",
    "Next, we will compare the phenotypes themselves, to check which of them are present in both DPP and Euro-NMD"
   ]
  },
  {
   "cell_type": "code",
   "execution_count": null,
   "metadata": {
    "vscode": {
     "languageId": "plaintext"
    }
   },
   "outputs": [],
   "source": [
    "puts \"Common phenotypes\"\n",
    "common_phenotypes = dpp_phenotype_hash.keys & enmd_phenotype_hash.keys"
   ]
  },
  {
   "cell_type": "markdown",
   "metadata": {},
   "source": [
    "## Show the frequencies for the shared phenotypes, as well as their relative frequencies\n",
    "Since both registries have a considerable difference in the overall number of patients, we will calculate the relative frequencies in each registry to get a better comparison between them:"
   ]
  },
  {
   "cell_type": "code",
   "execution_count": null,
   "metadata": {
    "vscode": {
     "languageId": "plaintext"
    }
   },
   "outputs": [],
   "source": [
    "dpp_common_freqs_hash = Hash.new\n",
    "enmd_common_freqs_hash = Hash.new\n",
    "dpp_rel_freqs_hash = Hash.new\n",
    "enmd_rel_freqs_hash = Hash.new\n",
    "\n",
    "# Print the common phenotypes and their frequencies\n",
    "puts \"DPP common phenotypes\"\n",
    "common_phenotypes.each do |pheno|\n",
    "    freq = dpp_phenotype_hash[pheno].to_i\n",
    "    rel_freq = (freq.to_f/dpp_total_phenotypes.to_f).round(3)\n",
    "    puts \"Phenotype: #{pheno};  Frequency: #{freq}; Relative frequency: #{rel_freq}\"\n",
    "    dpp_common_freqs_hash[pheno] = freq\n",
    "    dpp_rel_freqs_hash[pheno] = rel_freq\n",
    "end\n",
    "\n",
    "puts \"EURO-NMD common phenotypes\"\n",
    "common_phenotypes.each do |pheno|\n",
    "    freq = enmd_phenotype_hash[pheno].to_i\n",
    "    rel_freq = (freq.to_f/enmd_total_phenotypes.to_f).round(3)\n",
    "    puts \"Phenotype: #{pheno};  Frequency: #{freq}; Relative frequency: #{rel_freq}\"\n",
    "    enmd_common_freqs_hash[pheno] = freq\n",
    "    enmd_rel_freqs_hash[pheno] = rel_freq\n",
    "end"
   ]
  },
  {
   "cell_type": "markdown",
   "metadata": {},
   "source": [
    "## Analytics\n",
    "Here is a simple plot of the frecuencies of the shared phenotypes"
   ]
  },
  {
   "cell_type": "code",
   "execution_count": null,
   "metadata": {
    "vscode": {
     "languageId": "plaintext"
    }
   },
   "outputs": [],
   "source": [
    "data_rows = []\n",
    "common_phenotypes.each do |pheno|\n",
    "    phenolabel = pheno.gsub(/.*?\\/(\\w+)$/, \"#{$1}\")\n",
    "    data_rows.append [\"DPP #{phenolabel}\", dpp_common_freqs_hash[pheno]]\n",
    "    data_rows.append [\"ENMD #{phenolabel}\", enmd_common_freqs_hash[pheno]]\n",
    "end\n",
    "\n",
    "index = Daru::Index.new ['Phenotype', 'Number of people with the phenotype',]\n",
    "frame = Daru::DataFrame.rows(data_rows)\n",
    "frame.vectors = index\n",
    "table =  Daru::View::Table.new(frame)\n",
    "\n",
    "options =  { title: 'Phenotype frequencies',\n",
    "             type: :bar,\n",
    "             height: 500\n",
    "\n",
    "}\n",
    "chart = Daru::View::Plot.new(table.table, options)\n",
    "chart.show_in_iruby"
   ]
  },
  {
   "cell_type": "markdown",
   "metadata": {},
   "source": [
    "## Analytics 2\n",
    "Now, let's compare the relative frecuencies of those same phenotypes"
   ]
  },
  {
   "cell_type": "code",
   "execution_count": null,
   "metadata": {
    "vscode": {
     "languageId": "plaintext"
    }
   },
   "outputs": [],
   "source": [
    "\n",
    "data_rows = []\n",
    "common_phenotypes.each do |pheno|\n",
    "    phenolabel = pheno.gsub(/.*?\\/(\\w+)$/, \"#{$1}\")\n",
    "    data_rows.append [\"DPP #{phenolabel}\", dpp_rel_freqs_hash[pheno]]\n",
    "    data_rows.append [\"ENMD #{phenolabel}\", enmd_rel_freqs_hash[pheno]]\n",
    "end\n",
    "\n",
    "\n",
    "index = Daru::Index.new ['Phenotype', 'Relative phenotype frecuency',]\n",
    "frame = Daru::DataFrame.rows(data_rows)\n",
    "frame.vectors = index\n",
    "table =  Daru::View::Table.new(frame)\n",
    "\n",
    "options =  { title: 'Relative phenotype frequencies',\n",
    "             type: :bar,\n",
    "             height: 500\n",
    "\n",
    "}\n",
    "chart = Daru::View::Plot.new(table.table, options)\n",
    "chart.show_in_iruby"
   ]
  }
 ],
 "metadata": {
  "kernelspec": {
   "display_name": "Ruby 3.0.0",
   "language": "ruby",
   "name": "ruby"
  },
  "language_info": {
   "file_extension": ".rb",
   "mimetype": "application/x-ruby",
   "name": "ruby",
   "version": "3.0.0"
  }
 },
 "nbformat": 4,
 "nbformat_minor": 2
}
