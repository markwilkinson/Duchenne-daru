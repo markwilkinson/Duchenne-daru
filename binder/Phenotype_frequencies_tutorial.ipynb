{
 "cells": [
  {
   "cell_type": "markdown",
   "metadata": {},
   "source": [
    "## Some initial setup steps\n",
    "\n",
    "This demo has been coded to request the phenotype frecuencies of patients in the DPP and Euro-NDM.  We first need to do some \"housekeeping\" so that our environment can make reequests over the web and plot them..."
   ]
  },
  {
   "cell_type": "code",
   "execution_count": null,
   "metadata": {
    "vscode": {
     "languageId": "plaintext"
    }
   },
   "outputs": [],
   "source": [
    "require 'daru/view'\n",
    "require 'rest-client'\n",
    "\n",
    "Daru::View.plotting_library = :googlecharts\n",
    "\n",
    "puts  \"thanks!  Go to the next box now :-)\""
   ]
  },
  {
   "cell_type": "markdown",
   "metadata": {},
   "source": [
    "## Call the interface\n",
    "\n",
    "All of the private components are constantly running on the DPP and Euro-NMD servers, so we do not need to do anything in that regard.\n",
    "\n",
    "All we need to do is call the URL of the Secure Shell proxy"
   ]
  },
  {
   "cell_type": "code",
   "execution_count": null,
   "metadata": {
    "vscode": {
     "languageId": "plaintext"
    }
   },
   "outputs": [],
   "source": [
    "phenocsv = RestClient.get('http://fairdata.services:8088/api-local/phenotype-frequencies')\n",
    "enmdcsv = RestClient.get('https://zks-docker.ukl.uni-freiburg.de/grlc-euronmd/api-local/phenotype-frequencies')\n",
    "dpp_phenotype_hash = Hash.new\n",
    "enmd_phenotype_hash = Hash.new\n",
    "\n",
    "\n",
    "phenocsv.body.split[2..].each do |tmp|\n",
    "    dpp_phenotype_hash[tmp.split(',')[0]] = tmp.split(',')[1]\n",
    "end\n",
    "enmdcsv.body.split[2..].each do |tmp|\n",
    "    enmd_phenotype_hash[tmp.split(',')[0]] = tmp.split(',')[1]\n",
    "end\n",
    "\n",
    "# Print the hash for DPP\n",
    "puts \"DPP phenotype count\"\n",
    "print dpp_phenotype_hash\n",
    "puts \n",
    "\n",
    "# Print the hash for EURO-NMD\n",
    "puts\n",
    "puts \"EURO-NMD phenotype count\"\n",
    "print enmd_phenotype_hash\n",
    "puts\n"
   ]
  },
  {
   "cell_type": "markdown",
   "metadata": {},
   "source": [
    "## Calculate the total amount of phenotypes in each registry\n",
    "To get an idea on how similar DPP and Euro-NMD are regarding the number of phenotypes all patients have."
   ]
  },
  {
   "cell_type": "code",
   "execution_count": null,
   "metadata": {
    "vscode": {
     "languageId": "plaintext"
    }
   },
   "outputs": [],
   "source": [
    "#Calculate the total amount of phenotype frecuencies in DPP\n",
    "dpp_total_phenotypes = dpp_phenotype_hash.values.map(&:to_i).sum\n",
    "puts \"DPP total amount of phenotypes: #{dpp_total_phenotypes}\"\n",
    "\n",
    "#Calculate the total amount of phenotype frecuencies in EURO-NMD\n",
    "enmd_total_phenotypes = enmd_phenotype_hash.values.map(&:to_i).sum\n",
    "puts \"EURO-NMD total amount of phenotypes: #{enmd_total_phenotypes}\""
   ]
  },
  {
   "cell_type": "markdown",
   "metadata": {},
   "source": [
    "## Find the common phenotypes for both registries\n",
    "Next, we will compare the phenotypes themselves, to check which of them are present in both DPP and Euro-NMD"
   ]
  },
  {
   "cell_type": "code",
   "execution_count": null,
   "metadata": {
    "vscode": {
     "languageId": "plaintext"
    }
   },
   "outputs": [],
   "source": [
    "puts \"Common phenotypes\"\n",
    "common_phenotypes = dpp_phenotype_hash.keys & enmd_phenotype_hash.keys"
   ]
  },
  {
   "cell_type": "markdown",
   "metadata": {},
   "source": [
    "## Show the phenotype frecuencies for the shared phenotypes, as well as their relative frequencies\n",
    "Since both registries have a considerable difference in the amount of patients whose phenotype information is stored in the database, we will calculate the relative frequencies to get a better comparison between them"
   ]
  },
  {
   "cell_type": "code",
   "execution_count": null,
   "metadata": {
    "vscode": {
     "languageId": "plaintext"
    }
   },
   "outputs": [],
   "source": [
    "dpp_common_freqs_hash = Hash.new\n",
    "enmd_common_freqs_hash = Hash.new\n",
    "dpp_rel_freqs_hash = Hash.new\n",
    "enmd_rel_freqs_hash = Hash.new\n",
    "\n",
    "# Print the common phenotypes and their frequencies\n",
    "puts \"DPP common phenotypes\"\n",
    "common_phenotypes.each do |pheno|\n",
    "    freq = dpp_phenotype_hash[pheno].to_i\n",
    "    rel_freq = (freq.to_f/dpp_total_phenotypes.to_f).round(3)\n",
    "    puts \"Phenotype: #{pheno};  Frecuency: #{freq}; Relative frequency: #{rel_freq}\"\n",
    "    dpp_common_freqs_hash[pheno] = freq\n",
    "    dpp_rel_freqs_hash[pheno] = rel_freq\n",
    "end\n",
    "\n",
    "puts \"EURO-NMD common phenotypes\"\n",
    "common_phenotypes.each do |pheno|\n",
    "    freq = enmd_phenotype_hash[pheno].to_i\n",
    "    rel_freq = (freq.to_f/enmd_total_phenotypes.to_f).round(3)\n",
    "    puts \"Phenotype: #{pheno};  Frecuency: #{freq}; Relative frequency: #{rel_freq}\"\n",
    "    enmd_common_freqs_hash[pheno] = freq\n",
    "    enmd_rel_freqs_hash[pheno] = rel_freq\n",
    "end"
   ]
  },
  {
   "cell_type": "markdown",
   "metadata": {},
   "source": [
    "## Analytics\n",
    "Here is a simple plot of the frecuencies of the shared phenotypes"
   ]
  },
  {
   "cell_type": "code",
   "execution_count": null,
   "metadata": {
    "vscode": {
     "languageId": "plaintext"
    }
   },
   "outputs": [],
   "source": [
    "data_rows = [\n",
    "  ['DPP HP:0030193', dpp_common_freqs_hash[\"http://purl.obolibrary.org/obo/HP_0030193\"]],\n",
    "  ['ENMD HP:0030193', enmd_common_freqs_hash[\"http://purl.obolibrary.org/obo/HP_0030193\"]],\n",
    "  ['DPP HP:0008366', dpp_common_freqs_hash[\"http://purl.obolibrary.org/obo/HP_0008366\"]],\n",
    "  [\"ENMD HP:0008366\", enmd_common_freqs_hash[\"http://purl.obolibrary.org/obo/HP_0008366\"]],\n",
    "  ['DPP HP:0002650', dpp_common_freqs_hash[\"http://purl.obolibrary.org/obo/HP_0002650\"]],\n",
    "  [\"ENMD HP:0002650\", enmd_common_freqs_hash[\"http://purl.obolibrary.org/obo/HP_0002650\"]],\n",
    "  ]\n",
    "  index = Daru::Index.new ['Phenotype', 'Number of people with the phenotype',]\n",
    "  frame = Daru::DataFrame.rows(data_rows)\n",
    "  frame.vectors = index\n",
    "  table =  Daru::View::Table.new(frame)\n",
    "  \n",
    "  options =  { title: 'Phenotype frequencies',\n",
    "               type: :bar,\n",
    "               height: 500\n",
    "                \n",
    "  }\n",
    "  chart = Daru::View::Plot.new(table.table, options)\n",
    "  chart.show_in_iruby"
   ]
  },
  {
   "cell_type": "markdown",
   "metadata": {},
   "source": [
    "## Analytics 2\n",
    "Now, let's compare the relative frecuencies of those same phenotypes"
   ]
  },
  {
   "cell_type": "code",
   "execution_count": null,
   "metadata": {
    "vscode": {
     "languageId": "plaintext"
    }
   },
   "outputs": [],
   "source": [
    "data_rows = [\n",
    "  ['DPP HP:0030193', dpp_rel_freqs_hash[\"http://purl.obolibrary.org/obo/HP_0030193\"]],\n",
    "  ['ENMD HP:0030193', enmd_rel_freqs_hash[\"http://purl.obolibrary.org/obo/HP_0030193\"]],\n",
    "  ['DPP HP:0008366', dpp_rel_freqs_hash[\"http://purl.obolibrary.org/obo/HP_0008366\"]],\n",
    "  [\"ENMD HP:0008366\", enmd_rel_freqs_hash[\"http://purl.obolibrary.org/obo/HP_0008366\"]],\n",
    "  ['DPP HP:0002650', dpp_rel_freqs_hash[\"http://purl.obolibrary.org/obo/HP_0002650\"]],\n",
    "  [\"ENMD HP:0002650\", enmd_rel_freqs_hash[\"http://purl.obolibrary.org/obo/HP_0002650\"]],\n",
    "  ]\n",
    "  index = Daru::Index.new ['Phenotype', 'Relative phenotype frecuency',]\n",
    "  frame = Daru::DataFrame.rows(data_rows)\n",
    "  frame.vectors = index\n",
    "  table =  Daru::View::Table.new(frame)\n",
    "  \n",
    "  options =  { title: 'Relative phenotype frequencies',\n",
    "               type: :bar,\n",
    "               height: 500\n",
    "                \n",
    "  }\n",
    "  chart = Daru::View::Plot.new(table.table, options)\n",
    "  chart.show_in_iruby"
   ]
  }
 ],
 "metadata": {
  "language_info": {
   "name": "python"
  },
  "orig_nbformat": 4
 },
 "nbformat": 4,
 "nbformat_minor": 2
}
