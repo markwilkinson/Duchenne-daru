{
 "cells": [
  {
   "cell_type": "markdown",
   "metadata": {},
   "source": [
    "## Some initial setup steps\n",
    "\n",
    "### Step 1:  Select the Ruby kernel\n",
    "IF YOU SEE THE WORD \"Ruby\" in the top right of your screen, go directly to Step 2 :-)\n",
    "\n",
    "IF YOU DO NOT SEE THE WORD \"Ruby\" in the top right side of your screen, you need to set the Ruby kernel for this demo.  In the menu bar at the top of this page, click on \"kernel\" --> \"Change Kernel\" --> \"Ruby 3.x.x\"\n",
    "\n",
    "\n",
    "### Step 2:  Set-up the analytics environment\n",
    "\n",
    "This demo has been coded to request the number of Duchenne and Becker patients in the DPP.  We first need to do some \"housekeeping\" so that our environment can make reequests over the web and plot them...\n"
   ]
  },
  {
   "cell_type": "code",
   "execution_count": null,
   "metadata": {
    "vscode": {
     "languageId": "plaintext"
    }
   },
   "outputs": [],
   "source": [
    "require 'daru/view'\n",
    "require 'rest-client'\n",
    "require 'sparql'\n",
    "require 'rdf/rdfxml'\n",
    "require 'erb'\n",
    "\n",
    "Daru::View.plotting_library = :googlecharts\n",
    "\n",
    "puts  \"thanks!  Go to the next box now :-)\""
   ]
  },
  {
   "cell_type": "markdown",
   "metadata": {},
   "source": [
    "## Call the interface\n",
    "\n",
    "We need call the URL of the \"phenotype frequencies\" service for each registry. We will then do a bit of processing on the output to put it into a more useful structure for our analytics.\n"
   ]
  },
  {
   "cell_type": "code",
   "execution_count": null,
   "metadata": {
    "vscode": {
     "languageId": "plaintext"
    }
   },
   "outputs": [],
   "source": [
    "registries = {\n",
    "  'DPP' => 'https://www.fairdata.services/proxy/grlc/phenotype-frequencies/phenotype-frequencies',\n",
    "  'ENMD' => 'https://zks-docker.ukl.uni-freiburg.de/grlc-euronmd/api-local/phenotype-frequencies',\n",
    "}\n",
    "\n",
    "phenotype_hash = Hash.new\n",
    "\n",
    "registries.each do |registry, url|\n",
    "csv = RestClient.get(url)\n",
    "#  dppcsv = RestClient.get('https://www.fairdata.services/proxy/grlc/phenotype-frequencies/phenotype-frequencies')\n",
    "# enmdcsv = RestClient.get('https://zks-docker.ukl.uni-freiburg.de/grlc-euronmd/api-local/phenotype-frequencies')\n",
    "#dpp_phenotype_hash = Hash.new\n",
    "#enmd_phenotype_hash = Hash.new\n",
    "\n",
    "csv.body.split[2..].each do |tmp|\n",
    "    phenourl, frequency = tmp.split(',')\n",
    "    phenotype_hash[registry] = Hash.new unless phenotype_hash[registry]\n",
    "    phenotype_hash[registry][phenourl] = frequency\n",
    "    #dpp_phenotype_hash[phenourl] = frequency\n",
    "end\n",
    "\n",
    "end\n",
    "# dppcsv.body.split[2..].each do |tmp|\n",
    "#     phenourl, frequency = tmp.split(',')\n",
    "#     phenotype_hash['DPP'] = Hash.new unless phenotype_hash['DPP']\n",
    "#     phenotype_hash['DPP'][phenourl] = frequency\n",
    "#     dpp_phenotype_hash[phenourl] = frequency\n",
    "# end\n",
    "# enmdcsv.body.split[2..].each do |tmp|\n",
    "#     phenourl, frequency = tmp.split(',')\n",
    "#     phenotype_hash['ENMD'] = Hash.new unless phenotype_hash['ENMD']\n",
    "#     phenotype_hash['ENMD'][phenourl] = frequency\n",
    "#     enmd_phenotype_hash[tmp.split(',')[0]] = tmp.split(',')[1]\n",
    "# end\n",
    "\n",
    "puts \"data loaded successfully \"\n",
    "#puts\"#{phenotype_hash}\"\n"
   ]
  },
  {
   "cell_type": "markdown",
   "metadata": {},
   "source": [
    "## Calculate the total number of phenotypic observations in each registry\n",
    "\n",
    "To compare the scale of phenotypic observations in the participating registries\n"
   ]
  },
  {
   "cell_type": "code",
   "execution_count": null,
   "metadata": {
    "vscode": {
     "languageId": "plaintext"
    }
   },
   "outputs": [],
   "source": [
    "# Calculate the total number of phenotype observations\n",
    "\n",
    "#puts phenotype_hash['DPP'].values.map(&:to_i).sum\n",
    "\n",
    "#dpp_total_phenotypes = dpp_phenotype_hash.values.map(&:to_i).sum\n",
    "registries.each do |registry, url|\n",
    "puts \"#{registry} total number of phenotypic observations: #{phenotype_hash[registry].values.map(&:to_i).sum}\"\n",
    "end\n",
    "#Calculate the total amount of phenotype frequencies in EURO-NMD\n",
    "#enmd_total_phenotypes = enmd_phenotype_hash.values.map(&:to_i).sum\n",
    "#puts \"EURO-NMD total number of phenotypic observations: #{phenotype_hash['ENMD'].values.map(&:to_i).sum}\"#\n",
    "puts \"\""
   ]
  },
  {
   "cell_type": "markdown",
   "metadata": {},
   "source": [
    "## Find the common phenotypes for both registries\n",
    "Next, we will compare the phenotypes themselves, to check which of them are present in both DPP and Euro-NMD\n",
    "\n",
    "At the same time, we're going to take advantage of FAIR, and reach-out to the Human Phenotype Ontology to ask it for the phenotype terms associated with these URLs.\n"
   ]
  },
  {
   "cell_type": "code",
   "execution_count": null,
   "metadata": {
    "vscode": {
     "languageId": "plaintext"
    }
   },
   "outputs": [],
   "source": [
    "puts \"Common phenotypes\"\n",
    "\n",
    "# do an intersection over all registries\n",
    "common_phenotypes = []\n",
    "registries.each do |registry, url|\n",
    "  common_phenotypes = phenotype_hash[registry].keys unless common_phenotypes.first\n",
    "  common_phenotypes = common_phenotypes.intersection phenotype_hash[registry].keys\n",
    "end\n",
    "\n",
    "# Go to the Web to get more information about each pheno code\n",
    "phenolookup = {}\n",
    "common_phenotypes.each do |pheno|\n",
    "  coded = ERB::Util.url_encode pheno\n",
    "  g = RDF::Graph.load(\"https://ontobee.org/ontology/HP?iri=#{coded}\")\n",
    "  res = SPARQL.execute(\"SELECT ?label where {<#{pheno}> <http://www.w3.org/2000/01/rdf-schema#label> ?label}\", g)\n",
    "  label = res.first['label']\n",
    "  puts \"URl: #{pheno}  Term: #{label}\"\n",
    "  phenolookup[pheno] = label\n",
    "end\n",
    "\n",
    "puts \"\"\n",
    "\n"
   ]
  },
  {
   "cell_type": "markdown",
   "metadata": {},
   "source": [
    "## Show the frequencies for the shared phenotypes, as well as their relative frequencies\n",
    "Since both registries have a considerable difference in the overall number of patients, we will calculate the relative frequencies in each registry to get a better comparison between them:"
   ]
  },
  {
   "cell_type": "code",
   "execution_count": null,
   "metadata": {
    "vscode": {
     "languageId": "plaintext"
    }
   },
   "outputs": [],
   "source": [
    "# dpp_common_freqs_hash = Hash.new\n",
    "# enmd_common_freqs_hash = Hash.new\n",
    "# dpp_rel_freqs_hash = Hash.new\n",
    "# enmd_rel_freqs_hash = Hash.new\n",
    "\n",
    "common_freqs_hash = Hash.new\n",
    "rel_freqs_hash = Hash.new\n",
    "# Print the common phenotypes and their frequencies\n",
    "puts \"Common phenotypes\"\n",
    "\n",
    "['DPP', 'ENMD'].each do |registry|\n",
    "  common_phenotypes.each do |pheno|\n",
    "      freq = phenotype_hash[registry][pheno].to_i\n",
    "      rel_freq = (freq.to_f/phenotype_hash[registry].values.map(&:to_i).sum).round(3)\n",
    "      puts \"Registry: #{registry}; Phenotype: #{pheno};  Frequency: #{freq}; Relative frequency: #{rel_freq}\"\n",
    "      common_freqs_hash[registry] = {} unless common_freqs_hash[registry]\n",
    "      rel_freqs_hash[registry] = {} unless rel_freqs_hash[registry]\n",
    "      common_freqs_hash[registry][pheno] = freq\n",
    "      rel_freqs_hash[registry][pheno] = rel_freq\n",
    "  end\n",
    "end\n",
    "puts \"\"\n",
    "# puts \"EURO-NMD common phenotypes\"\n",
    "# common_phenotypes.each do |pheno|\n",
    "#     freq = enmd_phenotype_hash[pheno].to_i\n",
    "#     rel_freq = (freq.to_f/enmd_total_phenotypes.to_f).round(3)\n",
    "#     puts \"Phenotype: #{pheno};  Frequency: #{freq}; Relative frequency: #{rel_freq}\"\n",
    "#     enmd_common_freqs_hash[pheno] = freq\n",
    "#     enmd_rel_freqs_hash[pheno] = rel_freq\n",
    "# end"
   ]
  },
  {
   "cell_type": "markdown",
   "metadata": {},
   "source": [
    "## Analytics\n",
    "Here is a simple plot of the frequencies of the shared phenotypes"
   ]
  },
  {
   "cell_type": "code",
   "execution_count": null,
   "metadata": {
    "vscode": {
     "languageId": "plaintext"
    }
   },
   "outputs": [],
   "source": [
    "data_rows = []\n",
    "common_phenotypes.each do |pheno|\n",
    "  registries.each do |registry, url|\n",
    "    phenolabel = pheno.gsub(/.*?\\/(\\w+)$/, \"#{$1}\")\n",
    "    data_rows.append [\"#{registry} #{phenolabel}\", common_freqs_hash[registry][pheno]]\n",
    "#    data_rows.append [\"ENMD #{phenolabel}\", enmd_common_freqs_hash[pheno]]\n",
    "  end\n",
    "end\n",
    "\n",
    "index = Daru::Index.new ['Phenotype', 'Number of people with the phenotype',]\n",
    "frame = Daru::DataFrame.rows(data_rows)\n",
    "frame.vectors = index\n",
    "table =  Daru::View::Table.new(frame)\n",
    "\n",
    "options =  { title: 'Phenotype frequencies',\n",
    "             type: :bar,\n",
    "             height: 500\n",
    "\n",
    "}\n",
    "chart = Daru::View::Plot.new(table.table, options)\n",
    "chart.show_in_iruby"
   ]
  },
  {
   "cell_type": "markdown",
   "metadata": {},
   "source": [
    "## Analytics 2\n",
    "Now, let's compare the relative frequencies of those same phenotypes"
   ]
  },
  {
   "cell_type": "code",
   "execution_count": null,
   "metadata": {
    "vscode": {
     "languageId": "plaintext"
    }
   },
   "outputs": [],
   "source": [
    "\n",
    "data_rows = []\n",
    "common_phenotypes.each do |pheno|\n",
    "  registries.each do |registry, url|\n",
    "\n",
    "    phenolabel = pheno.gsub(/.*?\\/(\\w+)$/, \"#{$1}\")\n",
    "    data_rows.append [\"#{registry} #{phenolabel}\", rel_freqs_hash[registry][pheno]]\n",
    "#    data_rows.append [\"ENMD #{phenolabel}\", enmd_rel_freqs_hash[pheno]]\n",
    "  end\n",
    "end\n",
    "\n",
    "\n",
    "index = Daru::Index.new ['Phenotype', 'Relative phenotype frecuency',]\n",
    "frame = Daru::DataFrame.rows(data_rows)\n",
    "frame.vectors = index\n",
    "table =  Daru::View::Table.new(frame)\n",
    "\n",
    "options =  { title: 'Relative phenotype frequencies',\n",
    "             type: :bar,\n",
    "             height: 500\n",
    "\n",
    "}\n",
    "chart = Daru::View::Plot.new(table.table, options)\n",
    "chart.show_in_iruby"
   ]
  }
 ],
 "metadata": {
  "kernelspec": {
   "display_name": "Ruby 3.0.0",
   "language": "ruby",
   "name": "ruby"
  },
  "language_info": {
   "file_extension": ".rb",
   "mimetype": "application/x-ruby",
   "name": "ruby",
   "version": "3.0.0"
  }
 },
 "nbformat": 4,
 "nbformat_minor": 2
}
