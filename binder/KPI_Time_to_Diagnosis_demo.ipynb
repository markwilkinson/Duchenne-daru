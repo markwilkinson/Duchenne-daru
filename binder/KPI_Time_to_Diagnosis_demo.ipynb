{
 "cells": [
  {
   "cell_type": "markdown",
   "metadata": {},
   "source": [
    "## Some initial setup steps\n",
    "\n",
    "\n",
    "### Step 1:  Set-up the analytics environment\n",
    "\n",
    "This demo has been coded in the Ruby programming language, but you would often see data scientists using this same Web environment (called a \"Jupyter Notebook\") to run analytics in R or Python.  \n",
    "\n",
    "We first need to do some \"housekeeping\" so that our environment can make reequests over the web and plot them...\n"
   ]
  },
  {
   "cell_type": "code",
   "execution_count": null,
   "metadata": {
    "vscode": {
     "languageId": "plaintext"
    }
   },
   "outputs": [],
   "source": [
    "require 'daru/view'\n",
    "require 'rest-client'\n",
    "require 'sparql'\n",
    "require 'rdf/rdfxml'\n",
    "require 'erb'\n",
    "\n",
    "Daru::View.plotting_library = :googlecharts\n",
    "\n",
    "puts  \"thanks!  Go to the next box now :-)\""
   ]
  },
  {
   "cell_type": "markdown",
   "metadata": {},
   "source": [
    "## Call the registry data service interface\n",
    "\n",
    "We need call the URL of the \"Time To Diagnosis\" (ttd) service for each participating registry. We will then do a bit of processing on the output to put it into a more useful structure for our analytics.\n",
    "\n",
    "If you want to join this demo yourself, add the abbreviation of your registry, and the URL to your data service, into the \"registries\" variable in the following code box. Everything else is done for you automatically!\n"
   ]
  },
  {
   "cell_type": "code",
   "execution_count": null,
   "metadata": {
    "scrolled": true,
    "vscode": {
     "languageId": "plaintext"
    }
   },
   "outputs": [],
   "source": [
    "registries = {\n",
    "  'DPP' => 'https://www.fairdata.services/proxy/shallot/dpp-kpi-ttd',\n",
    "  'ENMD' => 'https://zks-docker.ukl.uni-freiburg.de/grlc-euronmd/api-local/kpi-ttd',\n",
    "  # 'YOU' => 'https://your.registry.here/join/us/kpi-ttd'\n",
    "\n",
    "}\n",
    "\n",
    "disease_hash = Hash.new\n",
    "\n",
    "registries.each do |registry, url|\n",
    "  begin\n",
    "    csv = RestClient.get(url)\n",
    "    warn csv\n",
    "  rescue\n",
    "    next\n",
    "  end\n",
    "\n",
    "  # Data Structure is:\n",
    "  # ORDO,   yearOfDiagnosis,    AverageOffset\n",
    "  # http://www.orpha.net/ORDO/Orphanet_98896,  1996,   334\n",
    "\n",
    "  csv.body.split[2..].each do |tmp|\n",
    "      disease, year, delay = tmp.split(',')\n",
    "      disease_hash[registry] = Hash.new unless disease_hash[registry]\n",
    "      disease_hash[registry][year] = Array.new unless disease_hash[registry][year]\n",
    "      disease_hash[registry][year] << [disease, delay.to_i]\n",
    "  end\n",
    "end\n",
    "\n",
    "puts \"data loaded successfully \"\n",
    "puts\"#{disease_hash}\"\n"
   ]
  },
  {
   "cell_type": "markdown",
   "metadata": {},
   "source": [
    "# Use FAIR to get more data\n",
    "\n",
    "Gather additional external data about the diseases.  Here we are reaching out to Orphanet using their FAIR data to gather additional information about the disease, in this case, the disease name.  We are using a language called 'SPARQL', which is the standard language for exploration of FAIR data.\n",
    "\n",
    "\n"
   ]
  },
  {
   "cell_type": "code",
   "execution_count": null,
   "metadata": {
    "vscode": {
     "languageId": "plaintext"
    }
   },
   "outputs": [],
   "source": [
    "puts \"Getting FAIR data about Orphanet diseases\"\n",
    "\n",
    "diseasenames = Hash.new\n",
    "registries.each do |registry, url|\n",
    "  next unless disease_hash[registry]\n",
    "  disease_hash[registry].keys.each do |year|  # need to check all years, since some diseases may only appear in a certain year\n",
    "    disease_hash[registry][year].each do |disease, _offset|\n",
    "      next if diseasenames[disease]\n",
    "      match = disease.match(/.*\\/(.*)\\s?/)  # need to capture just the ORPHA code\n",
    "      code = match[1]\n",
    "      orphanet_call = \"https://www.orpha.net/sparql?default-graph-uri=&query=PREFIX+ordo%3A%3Chttp%3A%2F%2Fwww.orpha.net%2FORDO%2F%3E%0D%0APREFIX+w3%3A+%3Chttp%3A%2F%2Fwww.w3.org%2F2000%2F01%2Frdf-schema%23%3E%0D%0ASELECT+%3Flabel%0D%0AWHERE+{%0D%0Aordo%3A#{code}+w3%3Acomment+%3Flabel%0D%0A}%0D%0A&should-sponge=&format=text%2Fcsv\"\n",
    "      csv = RestClient.get(orphanet_call)\n",
    "      label = csv.body.split(/\\n/)[1]\n",
    "      puts \"url: #{disease}  Name: #{label}\"\n",
    "      diseasenames[disease] = label\n",
    "    end\n",
    "  end\n",
    "end\n",
    "puts \"\"\n",
    "\n"
   ]
  },
  {
   "cell_type": "markdown",
   "metadata": {},
   "source": [
    "## Analytics\n",
    "Here is a simple plot of the time-to-diagnosis for a specific disease over time"
   ]
  },
  {
   "cell_type": "code",
   "execution_count": null,
   "metadata": {
    "vscode": {
     "languageId": "plaintext"
    }
   },
   "outputs": [],
   "source": [
    "registry = \"DPP\"   # I am asking about the data in DPP\n",
    "diseasecode = \"Orphanet_98896\"  # For Duchenne\n",
    "\n",
    "data_rows = []; label = \"\"\n",
    "disease_hash[registry].keys.each do |year|\n",
    "  disease_hash[registry][year].each do |disease, offset|\n",
    "    match = disease.match(/.*\\/(.*)\\s?/)\n",
    "    next unless match[1] == diseasecode   # filter only for duchenne\n",
    "    label = diseasenames[disease]\n",
    "    data_rows.append [year, offset]   # add it to our data rows\n",
    "  end\n",
    "end\n",
    "\n",
    "index = Daru::Index.new ['Year', 'Delay-to-Diagnosis (days)']\n",
    "frame = Daru::DataFrame.rows(data_rows)\n",
    "frame.vectors = index\n",
    "table =  Daru::View::Table.new(frame)\n",
    "\n",
    "options =  { title: \"Time to diagnosis for #{label} in the #{registry} registry\",\n",
    "             type: :bar,\n",
    "             height: 500\n",
    "\n",
    "}\n",
    "chart = Daru::View::Plot.new(table.table, options)\n",
    "chart.show_in_iruby"
   ]
  },
  {
   "cell_type": "markdown",
   "metadata": {},
   "source": [
    "# Further analytics\n",
    "\n",
    "We would likely now continue with our analytics by combining the observations of TTD over all registries, to get more statistical accuracy and a more harmonized, global view..."
   ]
  }
 ],
 "metadata": {
  "kernelspec": {
   "display_name": "Ruby 3.0.0",
   "language": "ruby",
   "name": "ruby"
  },
  "language_info": {
   "file_extension": ".rb",
   "mimetype": "application/x-ruby",
   "name": "ruby",
   "version": "3.0.0"
  }
 },
 "nbformat": 4,
 "nbformat_minor": 2
}
