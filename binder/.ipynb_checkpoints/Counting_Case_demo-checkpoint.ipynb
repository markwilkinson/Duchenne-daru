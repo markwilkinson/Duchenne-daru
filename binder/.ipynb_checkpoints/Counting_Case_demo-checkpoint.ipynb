{
 "cells": [
  {
   "cell_type": "markdown",
   "metadata": {},
   "source": [
    "<center><img src='./images/ERN_DPP_FDS.png'></center>\n",
    "  "
   ]
  },
  {
   "cell_type": "markdown",
   "metadata": {},
   "source": [
    "# Demonstration of privacy-preserving FAIR Data integration\n",
    "\n",
    "## An example of federated query over two independently FAIRified Musacular Dystrophy registries\n",
    "\n",
    "###  https://github.com/markwilkinson/duchenne-daru\n",
    "\n",
    "This demo is done in a Jupyter Notebook.  This allows us to run software live, edit it, and run it again to show that we are dynamically integrating data from multiple registries.  We can also show you exactly the data that is being passed, to give assurance that no private data is exposed.\n"
   ]
  },
  {
   "cell_type": "markdown",
   "metadata": {},
   "source": [
    "# The DPP Components\n",
    "\n",
    "On the DPP Server, _*within the secure space*_ we have three components.  \n",
    "* The FAIR data(base)\n",
    "* A 'grlc' server that sends SPARQL queries to the database, and returns the results\n",
    "* A Secure Shell proxy into the grlc server to ensure that all external requests are encrypted\n",
    "\n",
    "<br/><br/>\n",
    "\n",
    "<img src='./images/components.png'/>\n",
    "\n",
    "<hr/>"
   ]
  },
  {
   "cell_type": "markdown",
   "metadata": {},
   "source": [
    "## The Shared Components\n",
    "\n",
    "Outside of the DPP server, on the World Duchenne Organization GitHub, there is a public folder of SPARQL queries.  Those queries can be constucted by anyone, but must be approved by some representative of the WDO FAIR Data Project (e.g. Nawel or me).  This ensures that queries cannot expose any private data.\n",
    "\n",
    "When the grlc server starts, it calls to the WDO GitHub and loads a copy of those queries into the secure space.  From that point on, it can only execute the queries in that copy of the folder (all other grlc server capabilities have been disabled)\n",
    "<br/><br/><br/><br/><br/>\n",
    "\n",
    "<img src='./images/public_components.png'>\n",
    "<hr/>\n"
   ]
  },
  {
   "cell_type": "markdown",
   "metadata": {},
   "source": [
    "# The Request\n",
    "\n",
    "A user discovers the DPP service (somehow - likely through querying the DPP FAIR Data Point) and decides to collect the data.  They can see documentation about how to call the grlc service, so that they understand it.\n",
    "<br/><br/>\n",
    "<img src='./images/grlc_metadata.png'>\n",
    "<hr/>\n",
    "\n",
    "Using those instructions, the user creates the URL that will cause the query to be executed using her desired parameters.  \n",
    "\n",
    "     For example: type=\"Orphanet_98895\"  (Beker Muscular Dystrophy)"
   ]
  },
  {
   "cell_type": "markdown",
   "metadata": {},
   "source": [
    "# Enough Talk... Let's see it in action!"
   ]
  },
  {
   "cell_type": "markdown",
   "metadata": {},
   "source": [
    "## Some initial setup steps\n",
    "\n",
    "### Step 1:  Select the Ruby kernel\n",
    "IF YOU SEE THE WORD \"Ruby\" in the top right of your screen, go directly to Step 2 :-)\n",
    "\n",
    "IF YOU DO NOT SEE THE WORD \"Ruby\" in the top right side of your screen, you need to set the Ruby kernel for this demo.  In the menu bar at the top of this page, click on \"kernel\" --> \"Change Kernel\" --> \"Ruby 3.x.x\"\n",
    "\n",
    "\n",
    "### Step 2:  Set-up the analytics environment\n",
    "\n",
    "This demo has been coded to request the number of Duchenne and Becker patients in the DPP.  We first need to do some \"housekeeping\" so that our environment can make reequests over the web and plot them...\n"
   ]
  },
  {
   "cell_type": "code",
   "execution_count": null,
   "metadata": {},
   "outputs": [],
   "source": [
    "require 'daru/view'\n",
    "require 'rest-client'\n",
    "\n",
    "Daru::View.plotting_library = :googlecharts\n",
    "\n",
    "puts  \"thanks!  Go to the next box now :-)\""
   ]
  },
  {
   "cell_type": "markdown",
   "metadata": {},
   "source": [
    "## Call the interface\n",
    "\n",
    "All of the private components are constantly running on the DPP server, so we do not need to do anything in that regard.\n",
    "\n",
    "All we need to do is call the URL of the Secure Shell proxy, sending it our desired disease code..."
   ]
  },
  {
   "cell_type": "code",
   "execution_count": null,
   "metadata": {},
   "outputs": [],
   "source": [
    "\n",
    "duchenne = \"Orphanet_98896\"  # the Orphanet code for Duchenne\n",
    "becker = \"Orphanet_98895\"    # the Orphanet code for Becker\n",
    "duchennecsv = RestClient.get(\"https://www.fairdata.services/proxy/shallot/count?type=http%3A%2F%2Fwww.orpha.net%2FORDO%2F#{duchenne}\")  # The URL to the interface\n",
    "beckercsv =   RestClient.get(\"https://www.fairdata.services/proxy/shallot/count?type=http%3A%2F%2Fwww.orpha.net%2FORDO%2F#{becker}\")\n",
    "\n",
    "puts \"Duchenne Patients\"\n",
    "puts duchennecsv   # note that this is the ENTIRE OUTPUT from that request...\n",
    "                   # this proves that no private data is being exposed\n",
    "puts\n",
    "puts \"Becker\"\n",
    "puts beckercsv"
   ]
  },
  {
   "cell_type": "markdown",
   "metadata": {},
   "source": [
    "## Analytics\n",
    "\n",
    "Now that we have the data (stored in the `duchennecsv` and `beckercsv` variables), we can do analytics on that data.  For example, a simple plot:"
   ]
  },
  {
   "cell_type": "code",
   "execution_count": null,
   "metadata": {},
   "outputs": [],
   "source": [
    "duchenne_count = duchennecsv.body.split.last.to_i\n",
    "becker_count = beckercsv.body.split.last.to_i\n",
    "\n",
    "data_rows = [\n",
    "  ['Duchenne', duchenne_count],\n",
    "  ['Becker', becker_count]\n",
    "  ]\n",
    "  index = Daru::Index.new ['Disease', 'Patient Count']\n",
    "  frame = Daru::DataFrame.rows(data_rows)\n",
    "  frame.vectors = index\n",
    "  table =  Daru::View::Table.new(frame)\n",
    "  options =  { title: 'Patient Counts',\n",
    "               type: :bar}\n",
    "  chart = Daru::View::Plot.new(table.table, options)\n",
    "  chart.show_in_iruby"
   ]
  },
  {
   "cell_type": "markdown",
   "metadata": {},
   "source": [
    "<hr/>\n",
    "\n",
    "# FAIR is about interoperability... where's the interoperability?\n",
    "\n",
    "## Enter Dagmar Jäger!  EURO-NMD\n",
    "\n",
    "EURO-NMD has built their own FAIR database.  They want to integrate their data with ours... how?\n",
    "\n",
    "## Simply start the grlc server on EURO-NMD!\n",
    "\n",
    "<br/>\n",
    "<img src='./images/reuse_public_components.png'>\n",
    "\n",
    "<hr/>\n",
    "\n",
    "# Now just add the URL to the code and run it again..."
   ]
  },
  {
   "cell_type": "code",
   "execution_count": null,
   "metadata": {},
   "outputs": [],
   "source": [
    "duchennecsv = RestClient.get(\"https://www.fairdata.services/proxy/grlc/count?type=http%3A%2F%2Fwww.orpha.net%2FORDO%2F#{duchenne}\")  \n",
    "beckercsv =   RestClient.get(\"https://www.fairdata.services/proxy/grlc/count?type=http%3A%2F%2Fwww.orpha.net%2FORDO%2F#{becker}\")\n",
    "# EURO-NMD\n",
    "enmd_duchennecsv = RestClient.get(\"https://zks-docker.ukl.uni-freiburg.de/grlc-euronmd/api-local/count?type=http%3A%2F%2Fwww.orpha.net%2FORDO%2F#{duchenne}\")\n",
    "\n",
    "\n",
    "duchenne_count = duchennecsv.body.split.last.to_i\n",
    "becker_count = beckercsv.body.split.last.to_i\n",
    "# EURO-NMD\n",
    "enmd_duchenne_count = enmd_duchennecsv.body.split.last.to_i\n",
    "\n",
    "data_rows = [\n",
    "  ['DPP Duchenne', duchenne_count],\n",
    "  ['DPP Becker', becker_count],\n",
    "  # EURO-NMD\n",
    "  ['Duchenne in EURO-NMD', enmd_duchenne_count],\n",
    "  ]\n",
    "  index = Daru::Index.new ['Disease', 'Patient Count',]\n",
    "  frame = Daru::DataFrame.rows(data_rows)\n",
    "  frame.vectors = index\n",
    "  table =  Daru::View::Table.new(frame)\n",
    "  \n",
    "  options =  { title: 'Patient Counts',\n",
    "               type: :bar}\n",
    "  chart = Daru::View::Plot.new(table.table, options)\n",
    "  chart.show_in_iruby"
   ]
  },
  {
   "cell_type": "code",
   "execution_count": null,
   "metadata": {},
   "outputs": [],
   "source": []
  }
 ],
 "metadata": {
  "celltoolbar": "Raw Cell Format",
  "kernelspec": {
   "display_name": "Ruby 3.0.0",
   "language": "ruby",
   "name": "ruby"
  },
  "language_info": {
   "file_extension": ".rb",
   "mimetype": "application/x-ruby",
   "name": "ruby",
   "version": "3.0.0"
  }
 },
 "nbformat": 4,
 "nbformat_minor": 4
}
