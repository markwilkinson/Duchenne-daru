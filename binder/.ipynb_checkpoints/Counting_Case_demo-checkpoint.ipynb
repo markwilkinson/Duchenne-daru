{
 "cells": [
  {
   "cell_type": "markdown",
   "metadata": {},
   "source": [
    "<center><img src='./images/ERN_DPP_FDS.png'></center>\n",
    "  "
   ]
  },
  {
   "cell_type": "markdown",
   "metadata": {},
   "source": [
    "# Demonstration of privacy-preserving FAIR Data integration\n",
    "\n",
    "## An example of federated query over independently FAIRified Muscular Dystrophy registries\n",
    "\n",
    "###  https://github.com/markwilkinson/duchenne-daru\n",
    "\n",
    "This demo is done in a Jupyter Notebook.  This allows us to run software live, edit it, and run it again to show that we are dynamically integrating data from multiple registries.  We can also show you exactly the data that is being passed, to give assurance that no private data is exposed.\n"
   ]
  },
  {
   "cell_type": "markdown",
   "metadata": {},
   "source": [
    "# The DPP Components\n",
    "\n",
    "On the DPP Server, _*within the secure space*_ we have three components.  \n",
    "* The FAIR data(base)\n",
    "* A Shallot server that sends SPARQL queries to the database, and returns the results\n",
    "* A Secure Shell proxy into the Shallot server to ensure that all external requests are encrypted\n",
    "\n",
    "<br/><br/>\n",
    "\n",
    "<hr/>"
   ]
  },
  {
   "cell_type": "markdown",
   "metadata": {},
   "source": [
    "## The Shared Components\n",
    "\n",
    "Outside of the DPP server, on the World Duchenne Organization GitHub, there is a public folder of SPARQL queries.  Those queries can be constucted by anyone, but must be approved by some representative of the WDO FAIR Data Project (e.g. Nawel or me).  This ensures that queries cannot expose any private data.\n",
    "\n",
    "When the Shallot server starts, it calls to the WDO GitHub and loads a copy of those queries into the secure space.  From that point on, it can only execute the queries in that copy of the folder\n",
    "<br/><br/><br/><br/><br/>\n",
    "\n",
    "<img src='./images/public_components.png' width=700>\n",
    "<hr/>\n"
   ]
  },
  {
   "cell_type": "markdown",
   "metadata": {},
   "source": [
    "# The Request\n",
    "\n",
    "A user discovers the DPP service (e.g. likely through querying the DPP FAIR Data Point) and decides to request the count.  They can see documentation about how to call the Shallot service, so that they understand it.\n",
    "\n",
    "Using those instructions, the user creates the URL that will cause the query to be executed using her desired parameters.  \n",
    "\n",
    "     For example: type=\"Orphanet_98895\"  (Beker Muscular Dystrophy)"
   ]
  },
  {
   "cell_type": "markdown",
   "metadata": {},
   "source": [
    "# Enough Talk... Let's see it in action!"
   ]
  },
  {
   "cell_type": "markdown",
   "metadata": {},
   "source": [
    "## Some initial setup steps\n",
    "\n",
    "\n",
    "### Set-up the analytics environment\n",
    "\n",
    "This demo has been coded to request the number of Duchenne and Becker patients in the DPP.  We first need to do some \"housekeeping\" so that our environment can make reequests over the web and plot them...\n"
   ]
  },
  {
   "cell_type": "code",
   "execution_count": null,
   "metadata": {},
   "outputs": [],
   "source": [
    "# DON'T DISCONNECT MY BINDER!\n",
    "#(1..100).to_a.each {|t| puts t; sleep 30}\n",
    "# TO STOP THIS, CLICK THE \"STOP\" ICON IN THE TOOLBAR,\n",
    "# THEN DELETE THE CODE\n",
    "\n",
    "require 'daru/view'\n",
    "require 'rest-client'\n",
    "\n",
    "Daru::View.plotting_library = :googlecharts\n",
    "\n",
    "puts  \"thanks!  Go to the next box now :-)\""
   ]
  },
  {
   "cell_type": "markdown",
   "metadata": {},
   "source": [
    "## Call the interface\n",
    "\n",
    "All of the private components are constantly running on the DPP server, so we do not need to do anything in that regard.\n",
    "\n",
    "All we need to do is call the URL of the Secure Shell proxy, sending it our desired disease code..."
   ]
  },
  {
   "cell_type": "code",
   "execution_count": null,
   "metadata": {},
   "outputs": [],
   "source": [
    "\n",
    "duchenne = \"Orphanet_98896\"  # the Orphanet code for Duchenne\n",
    "becker = \"Orphanet_98895\"    # the Orphanet code for Becker\n",
    "als = 'Orphanet_803'         # the Orphanet code for Amyotrophic lateral sclerosis\n",
    "\n",
    "duchennecsv = RestClient.get(\"https://www.fairdata.services/proxy/shallot/dpp-count?type=http%3A%2F%2Fwww.orpha.net%2FORDO%2F#{duchenne}\")  # The URL to the interface\n",
    "beckercsv =   RestClient.get(\"https://www.fairdata.services/proxy/shallot/dpp-count?type=http%3A%2F%2Fwww.orpha.net%2FORDO%2F#{becker}\")\n",
    "alscsv =         RestClient.get(\"https://www.fairdata.services/proxy/shallot/dpp-count?type=http%3A%2F%2Fwww.orpha.net%2FORDO%2F#{als}\")\n",
    "\n",
    "puts \"Duchenne Patients\"\n",
    "puts duchennecsv   # note that this is the ENTIRE OUTPUT from that request...\n",
    "                   # this proves that no private data is being exposed\n",
    "puts\n",
    "puts \"Becker\"\n",
    "puts beckercsv\n",
    "\n",
    "puts\n",
    "puts \"Amyotrophic lateral sclerosis\"\n",
    "puts alscsv\n"
   ]
  },
  {
   "cell_type": "markdown",
   "metadata": {},
   "source": [
    "## Analytics\n",
    "\n",
    "Now that we have the data (stored in the `duchennecsv` and `beckercsv` variables), we can do analytics on that data.  For example, a simple plot:"
   ]
  },
  {
   "cell_type": "code",
   "execution_count": null,
   "metadata": {},
   "outputs": [],
   "source": [
    "duchenne_count = duchennecsv.body.split.last.to_i\n",
    "becker_count = beckercsv.body.split.last.to_i\n",
    "als_count = alscsv.body.split.last.to_i\n",
    "\n",
    "data_rows = [\n",
    "  ['Duchenne', duchenne_count],\n",
    "  ['Becker', becker_count],\n",
    "  ['ALS', als_count],\n",
    "  ]\n",
    "  index = Daru::Index.new ['Disease', 'Patient Count']\n",
    "  frame = Daru::DataFrame.rows(data_rows)\n",
    "  frame.vectors = index\n",
    "  table =  Daru::View::Table.new(frame)\n",
    "  options =  { title: 'Patient Counts',\n",
    "               type: :bar}\n",
    "  chart = Daru::View::Plot.new(table.table, options)\n",
    "  chart.show_in_iruby"
   ]
  },
  {
   "cell_type": "markdown",
   "metadata": {},
   "source": [
    "<hr/>\n",
    "\n",
    "# FAIR is about interoperability... where's the interoperability?\n",
    "\n",
    "## Enter Dagmar Jäger!  EURO-NMD\n",
    "\n",
    "EURO-NMD has built their own FAIR database.  They want to integrate their data with ours... how?\n",
    "\n",
    "## Simply start the Shallot server on EURO-NMD!\n",
    "\n",
    "<br/>\n",
    "<img src='./images/reuse_public_components.png' width=1000>\n",
    "\n",
    "<hr/>\n",
    "\n",
    "# Now just add the URL to the code and run it again..."
   ]
  },
  {
   "cell_type": "code",
   "execution_count": null,
   "metadata": {},
   "outputs": [],
   "source": [
    "\n",
    "# EURO-NMD\n",
    "enmd_duchennecsv = RestClient.get(\"https://zks-docker.ukl.uni-freiburg.de/grlc-euronmd/api-local/count?type=http%3A%2F%2Fwww.orpha.net%2FORDO%2F#{duchenne}\")\n",
    "enmd_beckercsv = RestClient.get(\"https://zks-docker.ukl.uni-freiburg.de/grlc-euronmd/api-local/count?type=http%3A%2F%2Fwww.orpha.net%2FORDO%2F#{becker}\")\n",
    "enmd_alscsv = RestClient.get(\"https://zks-docker.ukl.uni-freiburg.de/grlc-euronmd/api-local/count?type=http%3A%2F%2Fwww.orpha.net%2FORDO%2F#{als}\")\n",
    "\n",
    "# EURO-NMD\n",
    "enmd_duchenne_count = enmd_duchennecsv.body.split.last.to_i\n",
    "enmd_becker_count = enmd_beckercsv.body.split.last.to_i\n",
    "enmd_als_count = enmd_alscsv.body.split.last.to_i\n",
    "\n",
    "\n",
    "data_rows = [\n",
    "  ['DPP Duchenne', duchenne_count],\n",
    "  ['DPP Becker', becker_count],\n",
    "  ['DPP ALS', als_count],\n",
    "  # EURO-NMD\n",
    "  ['ENMD Duchenne', enmd_duchenne_count],\n",
    "  ['ENMD Becker', enmd_becker_count],\n",
    "  ['ENMD ALS', enmd_als_count],\n",
    "  ]\n",
    "  index = Daru::Index.new ['Disease', 'Patient Count',]\n",
    "  frame = Daru::DataFrame.rows(data_rows)\n",
    "  frame.vectors = index\n",
    "  table =  Daru::View::Table.new(frame)\n",
    "  \n",
    "  options =  { title: 'Patient Counts',\n",
    "               type: :bar}\n",
    "  chart = Daru::View::Plot.new(table.table, options)\n",
    "  chart.show_in_iruby"
   ]
  },
  {
   "cell_type": "markdown",
   "metadata": {},
   "source": [
    "# Recently, the CRAMP database came online\n",
    "\n",
    "<br/>\n",
    "<br/>\n",
    "\n",
    "<img src=\"./images/cramp.png\" width=500>\n",
    "\n",
    "\n",
    "The CRAMP database contains patients with ALS\n",
    "\n",
    "So we add them to the demo"
   ]
  },
  {
   "cell_type": "code",
   "execution_count": null,
   "metadata": {},
   "outputs": [],
   "source": [
    "\n",
    "als_crampcsv = RestClient.get(\n",
    "  \"https://www.fairdata.services/proxy/shallot/cramp-count?type=http%3A%2F%2Fwww.orpha.net%2FORDO%2F#{als}\")\n",
    "\n",
    "# CRAMP\n",
    "cramp_als_count = als_crampcsv.body.split.last.to_i\n",
    "\n",
    "data_rows = [\n",
    "  ['DPP Duchenne', duchenne_count],\n",
    "  ['DPP Becker', becker_count],\n",
    "  ['DPP ALS', als_count],\n",
    "  # EURO-NMD\n",
    "  ['ENMD Duchenne', enmd_duchenne_count],\n",
    "  ['ENMD Becker', enmd_becker_count],\n",
    "  ['ENMD ALS', enmd_als_count],\n",
    "  # CRAMP\n",
    "  ['CRAMP ALS', cramp_als_count],\n",
    "  ]\n",
    "\n",
    "  index = Daru::Index.new ['Disease', 'Patient Count',]\n",
    "  frame = Daru::DataFrame.rows(data_rows)\n",
    "  frame.vectors = index\n",
    "  table =  Daru::View::Table.new(frame)\n",
    "  \n",
    "  options =  { title: 'Patient Counts',\n",
    "               type: :bar}\n",
    "  chart = Daru::View::Plot.new(table.table, options)\n",
    "  chart.show_in_iruby"
   ]
  },
  {
   "cell_type": "markdown",
   "metadata": {},
   "source": [
    "# A few days ago the DMScope database came online\n",
    "<br/><br/>\n",
    "<img src=\"./images/dmscope.png\" width=500>\n",
    "\n",
    "The DMScope database contains patients with <b>Myotonic dystrophy type 1</b> [Orphanet 273](http://www.orpha.net/ORDO/Orphanet_273)\n",
    "\n",
    "\n",
    "\n",
    "  "
   ]
  },
  {
   "cell_type": "code",
   "execution_count": null,
   "metadata": {},
   "outputs": [],
   "source": [
    "myotonic_dystrophy = \"Orphanet_273\"\n",
    "\n",
    "md_dmscopecsv = RestClient.get(\n",
    "  \"https://www.fairdata.services/proxy/shallot/dmscope-count?type=http%3A%2F%2Fwww.orpha.net%2FORDO%2F#{myotonic_dystrophy}\")\n",
    "\n",
    "# DMSCOPE\n",
    "dmscope_md_count = md_dmscopecsv.body.split.last.to_i\n",
    "\n",
    "data_rows = [\n",
    "  ['DPP Duchenne', duchenne_count],\n",
    "  ['DPP Becker', becker_count],\n",
    "  ['DPP ALS', als_count],\n",
    "  # EURO-NMD\n",
    "  ['ENMD Duchenne', enmd_duchenne_count],\n",
    "  ['ENMD Becker', enmd_becker_count],\n",
    "  ['ENMD ALS', enmd_als_count],\n",
    "  # CRAMP\n",
    "  ['CRAMP ALS', cramp_als_count],\n",
    "  # DMSCOPE\n",
    "  ['DMSCOPE MD', dmscope_md_count],\n",
    "  ]\n",
    "\n",
    "  index = Daru::Index.new ['Disease', 'Patient Count',]\n",
    "  frame = Daru::DataFrame.rows(data_rows)\n",
    "  frame.vectors = index\n",
    "  table =  Daru::View::Table.new(frame)\n",
    "  \n",
    "  options =  { title: 'Patient Counts',\n",
    "               type: :bar}\n",
    "  chart = Daru::View::Plot.new(table.table, options)\n",
    "  chart.show_in_iruby"
   ]
  },
  {
   "cell_type": "markdown",
   "metadata": {},
   "source": [
    "# And finally, SmartCare arrived a few days ago!\n",
    "\n",
    "SmartCare includes patients with <b>Proximal spinal muscular atrophy</b> [Orphanet_70](http://www.orpha.net/ORDO/Orphanet_70)\n"
   ]
  },
  {
   "cell_type": "code",
   "execution_count": null,
   "metadata": {},
   "outputs": [],
   "source": [
    "\n",
    "  \n",
    "\n",
    "psma = \"Orphanet_70\"\n",
    "\n",
    "psma_smartcsv = RestClient.get(\n",
    "  \"https://zks-docker.ukl.uni-freiburg.de/grlc-smartcare/api-local/count?type=http%3A%2F%2Fwww.orpha.net%2FORDO%2F#{psma}\")\n",
    "\n",
    "# SMARTCARE\n",
    "smart_psma_count = psma_smartcsv.body.split.last.to_i\n",
    "\n",
    "\n",
    "data_rows = [\n",
    "  ['DPP Duchenne', duchenne_count],\n",
    "  ['DPP Becker', becker_count],\n",
    "  ['DPP ALS', als_count],\n",
    "  # EURO-NMD\n",
    "  ['ENMD Duchenne', enmd_duchenne_count],\n",
    "  ['ENMD Becker', enmd_becker_count],\n",
    "  ['ENMD ALS', enmd_als_count],\n",
    "  # CRAMP\n",
    "  ['CRAMP ALS', cramp_als_count],\n",
    "  # DMSCOPE\n",
    "  ['DMSCOPE MD', dmscope_md_count],\n",
    "  # DMSCOPE\n",
    "  ['SMART PSMA', smart_psma_count],\n",
    "  ]\n",
    "\n",
    "  index = Daru::Index.new ['Disease', 'Patient Count',]\n",
    "  frame = Daru::DataFrame.rows(data_rows)\n",
    "  frame.vectors = index\n",
    "  table =  Daru::View::Table.new(frame)\n",
    "  \n",
    "  options =  { title: 'Patient Counts',\n",
    "               type: :bar}\n",
    "  chart = Daru::View::Plot.new(table.table, options)\n",
    "  chart.show_in_iruby"
   ]
  },
  {
   "cell_type": "markdown",
   "metadata": {},
   "source": [
    "# Prove that they all work together!\n",
    "\n",
    "We are now going to send the same query to all registries, to prove interoperability.\n",
    "\n",
    "## Which registries contain records of Proximal spinal muscular atrophy?\n",
    "\n",
    "Let's go!\n"
   ]
  },
  {
   "cell_type": "code",
   "execution_count": null,
   "metadata": {},
   "outputs": [],
   "source": [
    "psma = \"Orphanet_70\"  # Proximal spinal muscular atrophy\n",
    "\n",
    "#SMARTCARE\n",
    "psma_smartcsv = RestClient.get(\n",
    "  \"https://zks-docker.ukl.uni-freiburg.de/grlc-smartcare/api-local/count?type=http%3A%2F%2Fwww.orpha.net%2FORDO%2F#{psma}\")\n",
    "\n",
    "# DMSCOPE\n",
    "psma_dmscopecsv = RestClient.get(\n",
    "  \"https://www.fairdata.services/proxy/shallot/dmscope-count?type=http%3A%2F%2Fwww.orpha.net%2FORDO%2F#{psma}\")\n",
    "\n",
    "# CRAMP\n",
    "psma_crampcsv = RestClient.get(\n",
    "  \"https://www.fairdata.services/proxy/shallot/cramp-count?type=http%3A%2F%2Fwww.orpha.net%2FORDO%2F#{psma}\")\n",
    "\n",
    "# EURO-NMD\n",
    "psma_euronmdcsv = RestClient.get(\n",
    "  \"https://zks-docker.ukl.uni-freiburg.de/grlc-euronmd/api-local/count?type=http%3A%2F%2Fwww.orpha.net%2FORDO%2F#{psma}\")\n",
    "\n",
    "# DUCHENNE PARENT PROJECT\n",
    "psma_dppcsv = RestClient.get(\n",
    "  \"https://www.fairdata.services/proxy/shallot/dpp-count?type=http%3A%2F%2Fwww.orpha.net%2FORDO%2F#{psma}\")  # The URL to the interface\n",
    "\n",
    "smart_psma_count = psma_smartcsv.body.split.last.to_i\n",
    "dmscope_psma_count = psma_dmscopecsv.body.split.last.to_i\n",
    "cramp_psma_count = psma_crampcsv.body.split.last.to_i\n",
    "euronmd_psma_count = psma_euronmdcsv.body.split.last.to_i\n",
    "dpp_psma_count = psma_dppcsv.body.split.last.to_i\n",
    "\n",
    "\n",
    "data_rows = [\n",
    "  ['DPP PSMA', dpp_psma_count],\n",
    "  ['SMART PSMA', smart_psma_count],\n",
    "  ['DMSCOPE PSMA', dmscope_psma_count],\n",
    "  ['ENMD PSMA', euronmd_psma_count],\n",
    "  ['CRAMP PSMA', cramp_psma_count],\n",
    "\n",
    "  ]\n",
    "\n",
    "  index = Daru::Index.new ['Disease', 'Patient Count',]\n",
    "  frame = Daru::DataFrame.rows(data_rows)\n",
    "  frame.vectors = index\n",
    "  table =  Daru::View::Table.new(frame)\n",
    "  \n",
    "  options =  { title: 'Patient Counts',\n",
    "               type: :bar}\n",
    "  chart = Daru::View::Plot.new(table.table, options)\n",
    "  chart.show_in_iruby"
   ]
  }
 ],
 "metadata": {
  "celltoolbar": "Raw Cell Format",
  "kernelspec": {
   "display_name": "Ruby 3.0.0",
   "language": "ruby",
   "name": "ruby"
  },
  "language_info": {
   "file_extension": ".rb",
   "mimetype": "application/x-ruby",
   "name": "ruby",
   "version": "3.0.0"
  }
 },
 "nbformat": 4,
 "nbformat_minor": 4
}
